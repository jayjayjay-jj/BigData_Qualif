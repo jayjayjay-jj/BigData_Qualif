from pyspark.sql import SparkSession
from pyspark.sql.functions import when
from pyspark.ml.feature import VectorAssembler, StandardScaler
from pyspark.ml.clustering import KMeans
from matplotlib import pyplot as plt

spark = SparkSession.builder.getOrCreate()

df_births = spark.read.option("inferSchema", "true").csv("births.csv", header = True)
df_testing = spark.read.option("inferSchema", "true").csv("births.csv", header = True)

df_births = df_births.select("MOTHER_AGE_YEARS", "FATHER_COMBINED_AGE", "STEROIDS", "ANTIBIOTICS", "ANESTHESIA")
df_testing = df_testing.select("MOTHER_AGE_YEARS", "FATHER_COMBINED_AGE", "STEROIDS", "ANTIBIOTICS", "ANESTHESIA", "INFANT_ALIVE_AT_REPORT")

df_births = df_births.na.drop()
df_testing = df_testing.na.drop()

def transform(df):
    df = df.withColumn("STEROIDS", when(df["STEROIDS"] == "N", 0). otherwise(1))
    df = df.withColumn("ANTIBIOTICS", when(df["ANTIBIOTICS"] == "N", 0). otherwise(1))
    df = df.withColumn("ANESTHESIA", when(df["ANESTHESIA"] == "N", 0). otherwise(1))
    return df

df_births = transform(df_births)
df_testing = transform(df_testing)

df_testing = df_testing.withColumn("INFANT_ALIVE_AT_REPORT", when(df_testing["INFANT_ALIVE_AT_REPORT"] == "N", 0). otherwise(1))

# df_testing.show()

#Normalization
cols = df_births.columns
df_births = VectorAssembler(inputCols = cols, outputCol = "Vector Features").transform(df_births)
df_births = StandardScaler(inputCol = "Vector Features", outputCol = "features").fit(df_births).transform(df_births)

cols = df_testing.columns
cols.remove("INFANT_ALIVE_AT_REPORT")
df_testing = VectorAssembler(inputCols = cols, outputCol = "Vector Features").transform(df_testing)
df_testing = StandardScaler(inputCol = "Vector Features", outputCol = "features").fit(df_testing).transform(df_testing)

kmeans = KMeans().setK(2).setSeed(1)
model = kmeans.fit(df_births)
predictions = model.transform(df_testing)

# predictions.show()

predictions = predictions.toPandas()
plt.scatter(predictions["MOTHER_AGE_YEARS"], predictions["FATHER_COMBINED_AGE"], c = predictions["prediction"])
plt.xlabel("Mother Age Years")
plt.ylabel("Father Combined Age")
plt.title("Clustering")
plt.show()

#Evaluation
count = 0
for idx, n in predictions.iterrows():
    if n["prediction"] == n["INFANT_ALIVE_AT_REPORT"]:
        count = count + 1
        
print(f'Accuracy: {count / len(predictions) * 100}%')
