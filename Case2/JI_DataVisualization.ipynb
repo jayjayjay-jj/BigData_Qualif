# 1
import matplotlib.pyplot as plt
import pandas as pd
import numpy as np

df = pd.read_csv('births.csv')
df.head()

data = {'NO_RISK':'no_risk_sum'}
agg_data = {'NO_RISK':'sum'}
data_bar = df.groupby(['BIRTH_MONTH'], as_index=False).agg(agg_data).rename(columns=data)

index = np.arange(len(data_bar.BIRTH_MONTH))
plt.bar(index, data_bar.no_risk_sum)
plt.xlabel('Birth Month')
plt.ylabel('No Risk Total')
plt.xticks(index, data_bar.BIRTH_MONTH)
plt.title('Number of No Risk Births Every Month from 2014-2015')
plt.show()


# 2
import matplotlib.pyplot as plt
import pandas as pd
import numpy as np

df = pd.read_csv('births.csv')

data_pie = df['BIRTH_MONTH'].value_counts().rename_axis('BIRTH_MONTH').reset_index(name='no_risk_total')

plt.figure(figsize=(10,10))
plt.pie(data_pie.no_risk_total, labels=data_pie.BIRTH_MONTH, startangle=90, autopct='%.1f%%')
plt.title('Number of No Risk Births Every Month from 2014-2015')
plt.show()


# 3
import matplotlib.pyplot as plt
import pandas as pd
import numpy as np

df = pd.read_csv('births.csv')

data_pie = df['BIRTH_MONTH'].value_counts().rename_axis('BIRTH_MONTH').reset_index(name='no_risk_total')

plt.figure(figsize=(10,10))
plt.pie(data_pie.no_risk_total, labels=data_pie.BIRTH_MONTH, startangle=90, autopct='%.1f%%')
plt.title('Number of No Risk Births Every Month from 2014-2015')
plt.show()